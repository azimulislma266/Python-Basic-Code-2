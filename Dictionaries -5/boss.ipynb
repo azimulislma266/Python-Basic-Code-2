{
 "cells": [
  {
   "cell_type": "code",
   "execution_count": 14,
   "metadata": {},
   "outputs": [
    {
     "name": "stdout",
     "output_type": "stream",
     "text": [
      "{'Bangaldesh': 'Dhaka', 'Amrica': 'america', 'Barishal': 'Jalokhate'}\n",
      "dict_keys(['Bangaldesh', 'Amrica', 'Barishal'])\n",
      "dict_values(['Dhaka', 'america', 'Jalokhate'])\n",
      "{'Bangaldesh': 'Dhaka', 'Amrica': 'america', 'Barishal': 'Jalokhate'}\n"
     ]
    },
    {
     "data": {
      "text/plain": [
       "'Dhaka'"
      ]
     },
     "execution_count": 14,
     "metadata": {},
     "output_type": "execute_result"
    }
   ],
   "source": [
    "\n",
    "Book = {\n",
    "    \"Bangaldesh\": 'Dhaka',\n",
    "    \"India\": 'Mombai',\n",
    "    \"Amrica\" :'america',\n",
    "}\n",
    "\n",
    "del Book['India']\n",
    "Book['Barishal'] =\"Jalokhate\" # add book \n",
    "print(Book)\n",
    "print(Book.keys())\n",
    "print(Book.values())\n",
    "len(Book)\n",
    "print(Book)\n",
    "\n",
    "Book [\"Barishal\"] = 'Dhaka'# add book a\n",
    "Book['Barishal']\n",
    "\n",
    "\n",
    "\n",
    "\n",
    "\n"
   ]
  },
  {
   "cell_type": "code",
   "execution_count": 11,
   "metadata": {},
   "outputs": [
    {
     "data": {
      "text/plain": [
       "{'form': 'bara_bara'}"
      ]
     },
     "execution_count": 11,
     "metadata": {},
     "output_type": "execute_result"
    }
   ],
   "source": [
    "\n",
    "def InputForm():\n",
    "    x ='bara_bara'\n",
    "    return x\n",
    "\n",
    "\n",
    "\n",
    "def home_view():\n",
    "    \n",
    "    context ={}\n",
    "    context['form']= InputForm()\n",
    "    return context\n",
    "    \n",
    " \n",
    "\n",
    "\n",
    "  \n",
    "\n",
    "home_view()\n",
    "    "
   ]
  },
  {
   "cell_type": "code",
   "execution_count": null,
   "metadata": {},
   "outputs": [],
   "source": []
  }
 ],
 "metadata": {
  "interpreter": {
   "hash": "6070b739bda494cd05c55c4dd1fefe4bc7f51a70f6d608882e1910222e9cc2a3"
  },
  "kernelspec": {
   "display_name": "Python 3.8.8 64-bit ('base': conda)",
   "name": "python3"
  },
  "language_info": {
   "codemirror_mode": {
    "name": "ipython",
    "version": 3
   },
   "file_extension": ".py",
   "mimetype": "text/x-python",
   "name": "python",
   "nbconvert_exporter": "python",
   "pygments_lexer": "ipython3",
   "version": "3.8.8"
  },
  "orig_nbformat": 4
 },
 "nbformat": 4,
 "nbformat_minor": 2
}
