{
 "cells": [
  {
   "cell_type": "code",
   "execution_count": null,
   "source": [
    "\r\n",
    "\r\n",
    "class OPP():\r\n",
    "    x = 1\r\n",
    "    \r\n",
    "  \r\n",
    "    \r\n",
    "y = OPP()\r\n",
    "\r\n",
    "y.b = 6\r\n",
    "\r\n",
    "\r\n",
    "print(y.x)  \r\n",
    "print(y.b)"
   ],
   "outputs": [],
   "metadata": {}
  },
  {
   "cell_type": "code",
   "execution_count": null,
   "source": [
    "class OPP():\r\n",
    "    x = 1\r\n",
    "   \r\n",
    "    \r\n",
    "    \r\n",
    "  \r\n",
    "    \r\n",
    "y = OPP()\r\n",
    "\r\n",
    "y.w = [1,2,3,5,4,6,8,7,9]\r\n",
    "\r\n",
    "print(y.x,y.w)  \r\n"
   ],
   "outputs": [],
   "metadata": {}
  },
  {
   "cell_type": "code",
   "execution_count": null,
   "source": [
    "\r\n",
    "class OPP():\r\n",
    "    x = 1\r\n",
    "    x = [1,2,3,5,4,6,8,7,9]\r\n",
    "    \r\n",
    "    \r\n",
    "m = OPP()   \r\n",
    "y = OPP()\r\n",
    "\r\n",
    "\r\n",
    "m.x = 1\r\n",
    "\r\n",
    "print(y.x,m.x)  \r\n",
    "\r\n",
    "\r\n",
    "\r\n",
    "\r\n",
    "# ay khane obj , nam change kore ak ar odik obj crate kora jabe , ar varible nam change kore alada babe obj ar coppy ana jabe"
   ],
   "outputs": [],
   "metadata": {}
  },
  {
   "cell_type": "code",
   "execution_count": null,
   "source": [],
   "outputs": [],
   "metadata": {}
  },
  {
   "cell_type": "code",
   "execution_count": 13,
   "source": [
    "\r\n",
    "class Student():\r\n",
    "    x = 5\r\n",
    "a = Student() \r\n",
    "\r\n",
    "b = Student()\r\n",
    "a.x = 6\r\n",
    "\r\n",
    "print(a.x) # hupor ar take akta coppy pailam  tar many aykhan take coppy necce shudo amake valou gulo bosate hobe\r\n",
    "print(a.x)  \r\n",
    "     "
   ],
   "outputs": [
    {
     "output_type": "stream",
     "name": "stdout",
     "text": [
      "6\n",
      "6\n"
     ]
    }
   ],
   "metadata": {}
  }
 ],
 "metadata": {
  "orig_nbformat": 4,
  "language_info": {
   "name": "python",
   "version": "3.8.8",
   "mimetype": "text/x-python",
   "codemirror_mode": {
    "name": "ipython",
    "version": 3
   },
   "pygments_lexer": "ipython3",
   "nbconvert_exporter": "python",
   "file_extension": ".py"
  },
  "kernelspec": {
   "name": "python3",
   "display_name": "Python 3.8.8 64-bit ('base': conda)"
  },
  "interpreter": {
   "hash": "6070b739bda494cd05c55c4dd1fefe4bc7f51a70f6d608882e1910222e9cc2a3"
  }
 },
 "nbformat": 4,
 "nbformat_minor": 2
}