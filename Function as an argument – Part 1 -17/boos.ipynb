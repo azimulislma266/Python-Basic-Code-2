{
 "cells": [
  {
   "cell_type": "code",
   "execution_count": 42,
   "source": [
    "\r\n",
    "# def add (a,b):\r\n",
    "#     return a+b\r\n",
    "# def sub (a,b):\r\n",
    "#     return a-b\r\n",
    "# def mult (a,b):\r\n",
    "#     return a*b\r\n",
    "\r\n",
    "# def Func(a,b,Function):\r\n",
    "#     return Function (a,b)\r\n",
    "\r\n",
    "# Func(10,15,mult)\r\n",
    "    "
   ],
   "outputs": [],
   "metadata": {}
  },
  {
   "cell_type": "code",
   "execution_count": 3,
   "source": [
    "\r\n",
    "def add (a,b):\r\n",
    "    return a+b\r\n",
    "def sub (a,b):\r\n",
    "    return a-b\r\n",
    "def mult (a,b):\r\n",
    "    return a*b\r\n",
    "\r\n",
    "def div (a,b):\r\n",
    "    return a/b\r\n",
    "\r\n",
    "def allfunction(a,b,function):\r\n",
    "   return function(a,b)\r\n",
    "\r\n",
    "Input =input('Enter a number')\r\n",
    "\r\n",
    "Opertion = Input[:3]\r\n",
    "Opertion = Opertion.lower()\r\n",
    "\r\n",
    "Counter = 4\r\n",
    "while Input[Counter]!= ' ':\r\n",
    "    Counter += 1 \r\n",
    "     \r\n",
    "Int1 = int(Input[4:Counter])\r\n",
    "Int2 = int(Input[Counter+1:])\r\n",
    "\r\n",
    "print(Int2)\r\n",
    "print(Int1)\r\n",
    "\r\n",
    "\r\n",
    "\r\n",
    "if Opertion =='add':\r\n",
    "    print('This is a add number',allfunction(Int1,Int2,add))\r\n",
    "if Opertion =='sub':\r\n",
    "    print('This is a sub number',allfunction(Int1,Int2,sub))    \r\n",
    "if Opertion =='mult':\r\n",
    "    print('This is a mult number',allfunction(Int1,Int2,mult))\r\n",
    "if Opertion =='div':\r\n",
    "    print('This is a div number',allfunction(Int1,Int2,div))\r\n",
    "  "
   ],
   "outputs": [
    {
     "output_type": "stream",
     "name": "stdout",
     "text": [
      "30\n",
      "20\n",
      "This is a add number 50\n"
     ]
    }
   ],
   "metadata": {}
  },
  {
   "cell_type": "code",
   "execution_count": null,
   "source": [],
   "outputs": [],
   "metadata": {}
  }
 ],
 "metadata": {
  "orig_nbformat": 4,
  "language_info": {
   "name": "python",
   "version": "3.8.8",
   "mimetype": "text/x-python",
   "codemirror_mode": {
    "name": "ipython",
    "version": 3
   },
   "pygments_lexer": "ipython3",
   "nbconvert_exporter": "python",
   "file_extension": ".py"
  },
  "kernelspec": {
   "name": "python3",
   "display_name": "Python 3.8.8 64-bit ('base': conda)"
  },
  "interpreter": {
   "hash": "6070b739bda494cd05c55c4dd1fefe4bc7f51a70f6d608882e1910222e9cc2a3"
  }
 },
 "nbformat": 4,
 "nbformat_minor": 2
}