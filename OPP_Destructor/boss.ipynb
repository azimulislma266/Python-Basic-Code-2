{
 "cells": [
  {
   "cell_type": "code",
   "execution_count": 4,
   "source": [
    "class Student():\r\n",
    "    \r\n",
    "    def __init__(self,name,roll,clsss ):\r\n",
    "        \r\n",
    "        self.name = name\r\n",
    "        self.roll = roll\r\n",
    "        self.clsss = clsss\r\n",
    "    \r\n",
    "    def printInfo(self):\r\n",
    "     \r\n",
    "        print('Student name :- '+ self.name)\r\n",
    "        print ('Student roll :- ', str(self.roll))\r\n",
    "        print('Student class :- ', str(self.clsss))\r\n",
    "        \r\n",
    "    def PromoteInfo(self):\r\n",
    "\r\n",
    "        self.clsss+=1\r\n",
    "        print('He is Azimul islam  promtion class',self.clsss)\r\n",
    "       \r\n",
    "    def changeRol (self,roll):\r\n",
    "        self.roll = roll\r\n",
    "        \r\n",
    "     \r\n",
    "    def printroll(self):\r\n",
    "        \r\n",
    "         print('Your new class roll ',self.roll)\r\n",
    "         \r\n",
    "    \r\n",
    "    def Chake(self):\r\n",
    "        self.printroll()\r\n",
    "        self.printInfo()\r\n",
    "        self.PromoteInfo()\r\n",
    "        self.changeRol(30) \r\n",
    "        \r\n",
    "    def __del__(self): \r\n",
    "        print('OPP delede')\r\n",
    "             \r\n",
    "        \r\n",
    "          \r\n",
    "         \r\n",
    "  \r\n",
    "    \r\n",
    "        \r\n",
    "           \r\n",
    "        \r\n",
    "      \r\n",
    "        \r\n",
    "\r\n",
    "       \r\n",
    "    \r\n",
    "        \r\n",
    "        \r\n",
    "         \r\n",
    "x = Student('Azimul islam',23,10)\r\n",
    "x.Chake()\r\n",
    "\r\n",
    "# x = 5 # jokhoni akta fuction delede hoye jabe tokhon del fuction ta ran hobe\r\n",
    "\r\n",
    "del x \r\n",
    "\r\n"
   ],
   "outputs": [
    {
     "output_type": "stream",
     "name": "stdout",
     "text": [
      "Your new class roll  23\n",
      "Student name :- Azimul islam\n",
      "Student roll :-  23\n",
      "Student class :-  10\n",
      "He is Azimul islam  promtion class 11\n",
      "OPP delede\n"
     ]
    }
   ],
   "metadata": {}
  },
  {
   "cell_type": "markdown",
   "source": [],
   "metadata": {}
  },
  {
   "cell_type": "code",
   "execution_count": null,
   "source": [],
   "outputs": [],
   "metadata": {}
  }
 ],
 "metadata": {
  "orig_nbformat": 4,
  "language_info": {
   "name": "python",
   "version": "3.8.8",
   "mimetype": "text/x-python",
   "codemirror_mode": {
    "name": "ipython",
    "version": 3
   },
   "pygments_lexer": "ipython3",
   "nbconvert_exporter": "python",
   "file_extension": ".py"
  },
  "kernelspec": {
   "name": "python3",
   "display_name": "Python 3.8.8 64-bit ('base': conda)"
  },
  "interpreter": {
   "hash": "6070b739bda494cd05c55c4dd1fefe4bc7f51a70f6d608882e1910222e9cc2a3"
  }
 },
 "nbformat": 4,
 "nbformat_minor": 2
}