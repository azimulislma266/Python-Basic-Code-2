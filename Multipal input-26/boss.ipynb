{
 "cells": [
  {
   "cell_type": "code",
   "execution_count": null,
   "source": [
    "# Python program showing how to\r\n",
    "# multiple input using split\r\n",
    "\r\n",
    "# taking two inputs at a time\r\n",
    "x, y = input(\"Enter a two value: \").split()\r\n",
    "print(\"Number of boys: \", x)\r\n",
    "print(\"Number of girls: \", y)\r\n",
    "print()\r\n",
    "\r\n",
    "# taking three inputs at a time\r\n",
    "x, y, z = input(\"Enter a three value: \").split()\r\n",
    "print(\"Total number of students: \", x)\r\n",
    "print(\"Number of boys is : \", y)\r\n",
    "print(\"Number of girls is : \", z)\r\n",
    "print()\r\n",
    "\r\n",
    "# taking two inputs at a time\r\n",
    "a, b = input(\"Enter a two value: \").split()\r\n",
    "print(\"First number is {} and second number is {}\".format(a, b))\r\n",
    "print()\r\n",
    "\r\n",
    "# taking multiple inputs at a time\r\n",
    "# and type casting using list() function\r\n",
    "x = list(map(int, input(\"Enter a multiple value: \").split()))\r\n",
    "print(\"List of students: \", x)\r\n"
   ],
   "outputs": [],
   "metadata": {}
  },
  {
   "cell_type": "code",
   "execution_count": null,
   "source": [],
   "outputs": [],
   "metadata": {}
  }
 ],
 "metadata": {
  "orig_nbformat": 4,
  "language_info": {
   "name": "python"
  }
 },
 "nbformat": 4,
 "nbformat_minor": 2
}