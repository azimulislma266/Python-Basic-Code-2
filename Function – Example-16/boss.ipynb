{
 "cells": [
  {
   "cell_type": "code",
   "execution_count": 86,
   "source": [
    "\r\n",
    "\r\n",
    "\r\n",
    "# def add(mylist):\r\n",
    "#     s = 0\r\n",
    "#     for JogList in mylist:\r\n",
    "#         s = s+JogList\r\n",
    "#     return s\r\n",
    "# def params(F):\r\n",
    "#     appendList=[]\r\n",
    "#     for Number in range(1,F):\r\n",
    "#         if F%Number==0:\r\n",
    "#             appendList.append(Number)\r\n",
    "#     sum= add(appendList)\r\n",
    "#     if sum==F:\r\n",
    "#         return True\r\n",
    "#     else:\r\n",
    "#         return  False\r\n",
    "        \r\n",
    "# for i in range(1,10000):\r\n",
    "    \r\n",
    "#     if params(i)==True:\r\n",
    "        \r\n",
    "#         print(i)      \r\n",
    "      \r\n",
    " "
   ],
   "outputs": [],
   "metadata": {}
  },
  {
   "cell_type": "code",
   "execution_count": 87,
   "source": [
    "def add(mylist):\r\n",
    "    s =0\r\n",
    "    for number in mylist:\r\n",
    "        s = s + number\r\n",
    "    return s\r\n",
    "    \r\n",
    "def params(n):\r\n",
    "    factors =[]\r\n",
    "    for i in range(1,n):\r\n",
    "        if n%i==0:\r\n",
    "            factors.append(i)\r\n",
    "    sum = add(factors)\r\n",
    "    if sum==n: \r\n",
    "        return True\r\n",
    "    else:\r\n",
    "        return False\r\n",
    "    \r\n",
    "for i in range(1,1000):\r\n",
    "    \r\n",
    "    if params(i)==True: \r\n",
    "        print(i)    \r\n",
    "    \r\n",
    "    \r\n",
    "   "
   ],
   "outputs": [
    {
     "output_type": "stream",
     "name": "stdout",
     "text": [
      "6\n",
      "28\n",
      "496\n"
     ]
    }
   ],
   "metadata": {}
  },
  {
   "cell_type": "code",
   "execution_count": 88,
   "source": [
    "\r\n",
    "\r\n",
    "def params(F):\r\n",
    "     for Number in range(1,F):\r\n",
    "          if F%Number==0:\r\n",
    "               appendlist=[]\r\n",
    "               appendlist.append(Number)     \r\n",
    "          sum = 0\r\n",
    "     for namber in appendlist:\r\n",
    "          sum = sum + namber\r\n",
    "          if sum==F:\r\n",
    "              return True\r\n",
    "          else:\r\n",
    "               return False\r\n",
    "               \r\n",
    "               \r\n",
    "               \r\n",
    "       \r\n",
    "               \r\n",
    "          \r\n",
    "          \r\n",
    "    \r\n",
    "    "
   ],
   "outputs": [],
   "metadata": {}
  },
  {
   "cell_type": "code",
   "execution_count": 89,
   "source": [
    "params(28)"
   ],
   "outputs": [
    {
     "output_type": "execute_result",
     "data": {
      "text/plain": [
       "False"
      ]
     },
     "metadata": {},
     "execution_count": 89
    }
   ],
   "metadata": {}
  },
  {
   "cell_type": "code",
   "execution_count": null,
   "source": [],
   "outputs": [],
   "metadata": {}
  }
 ],
 "metadata": {
  "orig_nbformat": 4,
  "language_info": {
   "name": "python",
   "version": "3.8.10",
   "mimetype": "text/x-python",
   "codemirror_mode": {
    "name": "ipython",
    "version": 3
   },
   "pygments_lexer": "ipython3",
   "nbconvert_exporter": "python",
   "file_extension": ".py"
  },
  "kernelspec": {
   "name": "python3",
   "display_name": "Python 3.8.10 64-bit ('a': conda)"
  },
  "interpreter": {
   "hash": "6d9b8b55280c74c8448fe5a5a2df1f164a299376374b3d46cba56a0268a31c8c"
  }
 },
 "nbformat": 4,
 "nbformat_minor": 2
}