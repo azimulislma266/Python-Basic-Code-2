{
 "cells": [
  {
   "cell_type": "code",
   "execution_count": 11,
   "source": [
    "\r\n",
    "#  default arguments , non default argumnets \r\n",
    "\r\n",
    "def DefultArgumnets (a,b,c,d=90):\r\n",
    "    print(a,b,c,d)\r\n",
    "\r\n",
    "DefultArgumnets(10,20,60)        "
   ],
   "outputs": [
    {
     "output_type": "stream",
     "name": "stdout",
     "text": [
      "10 20 60 90\n"
     ]
    }
   ],
   "metadata": {}
  },
  {
   "cell_type": "code",
   "execution_count": 7,
   "source": [
    "def DefultArgumnets (a,b,c=60,d=30):\r\n",
    "    print(a,b,c,d)\r\n",
    "\r\n",
    "DefultArgumnets(10,20,50) "
   ],
   "outputs": [
    {
     "output_type": "stream",
     "name": "stdout",
     "text": [
      "10 20 50 30\n"
     ]
    }
   ],
   "metadata": {}
  },
  {
   "cell_type": "code",
   "execution_count": 15,
   "source": [
    "# frist serial ta mentent korta hobe and order ta mnetent korta hobe\r\n",
    "\r\n",
    "\r\n",
    "def DefultArgumnets (a,b,c=60,d=30):\r\n",
    "    print(a,b,c,d)\r\n",
    "\r\n",
    "DefultArgumnets(a=10,b=20,c=30,d='NonDefult') "
   ],
   "outputs": [
    {
     "output_type": "stream",
     "name": "stdout",
     "text": [
      "10 20 30 NonDefult\n"
     ]
    }
   ],
   "metadata": {}
  },
  {
   "cell_type": "code",
   "execution_count": 18,
   "source": [
    "\r\n",
    "\r\n",
    "x = 'String'\r\n",
    "y = 20\r\n",
    "\r\n",
    "print(y,x)\r\n",
    "\r\n",
    "v,c = 20,50\r\n",
    "\r\n",
    "print(v,c)"
   ],
   "outputs": [
    {
     "output_type": "stream",
     "name": "stdout",
     "text": [
      "20 String\n",
      "20 50\n"
     ]
    }
   ],
   "metadata": {}
  },
  {
   "cell_type": "code",
   "execution_count": 19,
   "source": [
    "# soyab korar exampole\r\n",
    "\r\n",
    "t = 15\r\n",
    "p= 20\r\n",
    "\r\n",
    "t,p = p,t\r\n",
    "\r\n",
    "print(t,p)\r\n"
   ],
   "outputs": [
    {
     "output_type": "stream",
     "name": "stdout",
     "text": [
      "20 15\n"
     ]
    }
   ],
   "metadata": {}
  },
  {
   "cell_type": "code",
   "execution_count": null,
   "source": [],
   "outputs": [],
   "metadata": {}
  }
 ],
 "metadata": {
  "orig_nbformat": 4,
  "language_info": {
   "name": "python",
   "version": "3.8.8",
   "mimetype": "text/x-python",
   "codemirror_mode": {
    "name": "ipython",
    "version": 3
   },
   "pygments_lexer": "ipython3",
   "nbconvert_exporter": "python",
   "file_extension": ".py"
  },
  "kernelspec": {
   "name": "python3",
   "display_name": "Python 3.8.8 64-bit ('base': conda)"
  },
  "interpreter": {
   "hash": "6070b739bda494cd05c55c4dd1fefe4bc7f51a70f6d608882e1910222e9cc2a3"
  }
 },
 "nbformat": 4,
 "nbformat_minor": 2
}