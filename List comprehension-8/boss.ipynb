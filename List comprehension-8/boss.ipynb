{
 "cells": [
  {
   "cell_type": "code",
   "execution_count": 17,
   "source": [
    "# string take akta list akare dekhate chila exampol\r\n",
    "\r\n",
    "\r\n",
    "List =[]\r\n",
    "for i in x:\r\n",
    "    List.append(i)\r\n",
    "print(List)\r\n",
    "  "
   ],
   "outputs": [
    {
     "output_type": "stream",
     "name": "stdout",
     "text": [
      "['A', 'z', 'i', 'm', 'u', 'l']\n"
     ]
    }
   ],
   "metadata": {}
  },
  {
   "cell_type": "code",
   "execution_count": 28,
   "source": [
    "k = 'Azimul'\r\n",
    "List2 =[List2 for List2 in k]   \r\n",
    "print(List2)\r\n",
    "\r\n"
   ],
   "outputs": [
    {
     "output_type": "stream",
     "name": "stdout",
     "text": [
      "['A', 'z', 'i', 'm', 'u', 'l']\n"
     ]
    }
   ],
   "metadata": {}
  },
  {
   "cell_type": "code",
   "execution_count": 30,
   "source": [
    "\r\n",
    "Number = [1,2,3,4,5,6,7,8,9,10]\r\n",
    "List3 = []\r\n",
    "for i in Number:\r\n",
    "    List3.append(i)\r\n",
    "print(List3)\r\n",
    "\r\n",
    "\r\n"
   ],
   "outputs": [
    {
     "output_type": "stream",
     "name": "stdout",
     "text": [
      "[1, 2, 3, 4, 5, 6, 7, 8, 9, 10]\n"
     ]
    }
   ],
   "metadata": {}
  },
  {
   "cell_type": "code",
   "execution_count": 42,
   "source": [
    "number = [1,2,3,4,5,6,7,8,9,10]\r\n",
    "List4 = [number for number in range(0,5)]\r\n",
    "print(List4)"
   ],
   "outputs": [
    {
     "output_type": "stream",
     "name": "stdout",
     "text": [
      "[0, 1, 2, 3, 4]\n"
     ]
    }
   ],
   "metadata": {}
  },
  {
   "cell_type": "code",
   "execution_count": 51,
   "source": [
    "\r\n",
    "\r\n",
    "nUmber = [1,2,3,4,5,6,7,8,9,10]\r\n",
    "\r\n",
    "myList = [i for i in nUmber if i%2==0  and  i>5 <i-1]\r\n",
    "print( myList)\r\n"
   ],
   "outputs": [
    {
     "output_type": "stream",
     "name": "stdout",
     "text": [
      "[8, 10]\n"
     ]
    }
   ],
   "metadata": {}
  },
  {
   "cell_type": "code",
   "execution_count": 3,
   "source": [
    "## ami jodi ay khen else us korta chi thoel tar exampol\r\n",
    "\r\n",
    "xNumber = [ 0,1,2,3,4,5,6,7,8,9,10]\r\n",
    "mList =[ 'alon' if xNumber%2==0 else 'dabol'for xNumber in xNumber]\r\n",
    "print(mList)"
   ],
   "outputs": [
    {
     "output_type": "stream",
     "name": "stdout",
     "text": [
      "['alon', 'dabol', 'alon', 'dabol', 'alon', 'dabol', 'alon', 'dabol', 'alon', 'dabol', 'alon']\n"
     ]
    }
   ],
   "metadata": {}
  },
  {
   "cell_type": "code",
   "execution_count": 4,
   "source": [
    "name = input('Enter a name')\r\n",
    "lohar = name.lower()\r\n",
    "convert = lohar.reverse()"
   ],
   "outputs": [],
   "metadata": {}
  },
  {
   "cell_type": "code",
   "execution_count": null,
   "source": [],
   "outputs": [],
   "metadata": {}
  }
 ],
 "metadata": {
  "orig_nbformat": 4,
  "language_info": {
   "name": "python",
   "version": "3.8.8",
   "mimetype": "text/x-python",
   "codemirror_mode": {
    "name": "ipython",
    "version": 3
   },
   "pygments_lexer": "ipython3",
   "nbconvert_exporter": "python",
   "file_extension": ".py"
  },
  "kernelspec": {
   "name": "python3",
   "display_name": "Python 3.8.8 64-bit ('base': conda)"
  },
  "interpreter": {
   "hash": "6070b739bda494cd05c55c4dd1fefe4bc7f51a70f6d608882e1910222e9cc2a3"
  }
 },
 "nbformat": 4,
 "nbformat_minor": 2
}